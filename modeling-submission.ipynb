{
 "cells": [
  {
   "cell_type": "markdown",
   "id": "f291a64c",
   "metadata": {
    "papermill": {
     "duration": 0.005771,
     "end_time": "2023-11-27T20:10:12.400068",
     "exception": false,
     "start_time": "2023-11-27T20:10:12.394297",
     "status": "completed"
    },
    "tags": []
   },
   "source": [
    "# Imports/Downloads"
   ]
  },
  {
   "cell_type": "code",
   "execution_count": 1,
   "id": "b27a971d",
   "metadata": {
    "_cell_guid": "b1076dfc-b9ad-4769-8c92-a6c4dae69d19",
    "_uuid": "8f2839f25d086af736a60e9eeb907d3b93b6e0e5",
    "execution": {
     "iopub.execute_input": "2023-11-27T20:10:12.415993Z",
     "iopub.status.busy": "2023-11-27T20:10:12.415473Z",
     "iopub.status.idle": "2023-11-27T20:10:14.655012Z",
     "shell.execute_reply": "2023-11-27T20:10:14.653346Z"
    },
    "papermill": {
     "duration": 2.249799,
     "end_time": "2023-11-27T20:10:14.658172",
     "exception": false,
     "start_time": "2023-11-27T20:10:12.408373",
     "status": "completed"
    },
    "tags": []
   },
   "outputs": [],
   "source": [
    "import pandas as pd\n",
    "from sklearn.feature_extraction.text import TfidfVectorizer\n",
    "from sklearn.preprocessing import StandardScaler\n",
    "from xgboost import XGBClassifier"
   ]
  },
  {
   "cell_type": "markdown",
   "id": "df9fda4f",
   "metadata": {
    "papermill": {
     "duration": 0.004572,
     "end_time": "2023-11-27T20:10:14.667977",
     "exception": false,
     "start_time": "2023-11-27T20:10:14.663405",
     "status": "completed"
    },
    "tags": []
   },
   "source": [
    "# Loading Data"
   ]
  },
  {
   "cell_type": "code",
   "execution_count": 2,
   "id": "3458f3fe",
   "metadata": {
    "execution": {
     "iopub.execute_input": "2023-11-27T20:10:14.680278Z",
     "iopub.status.busy": "2023-11-27T20:10:14.679463Z",
     "iopub.status.idle": "2023-11-27T20:10:17.723882Z",
     "shell.execute_reply": "2023-11-27T20:10:17.722400Z"
    },
    "papermill": {
     "duration": 3.054438,
     "end_time": "2023-11-27T20:10:17.727238",
     "exception": false,
     "start_time": "2023-11-27T20:10:14.672800",
     "status": "completed"
    },
    "tags": []
   },
   "outputs": [],
   "source": [
    "train = pd.read_csv('/kaggle/input/daigt-v2-train-dataset/train_v2_drcat_02.csv')\n",
    "test = pd.read_csv('/kaggle/input/llm-detect-ai-generated-text/test_essays.csv')\n",
    "sample = pd.read_csv('/kaggle/input/llm-detect-ai-generated-text/sample_submission.csv')"
   ]
  },
  {
   "cell_type": "markdown",
   "id": "9fdb21ee",
   "metadata": {
    "papermill": {
     "duration": 0.004709,
     "end_time": "2023-11-27T20:10:17.737230",
     "exception": false,
     "start_time": "2023-11-27T20:10:17.732521",
     "status": "completed"
    },
    "tags": []
   },
   "source": [
    "# Cleaning Data"
   ]
  },
  {
   "cell_type": "code",
   "execution_count": 3,
   "id": "d66af82e",
   "metadata": {
    "execution": {
     "iopub.execute_input": "2023-11-27T20:10:17.749139Z",
     "iopub.status.busy": "2023-11-27T20:10:17.748722Z",
     "iopub.status.idle": "2023-11-27T20:10:17.783391Z",
     "shell.execute_reply": "2023-11-27T20:10:17.781999Z"
    },
    "papermill": {
     "duration": 0.044348,
     "end_time": "2023-11-27T20:10:17.786577",
     "exception": false,
     "start_time": "2023-11-27T20:10:17.742229",
     "status": "completed"
    },
    "tags": []
   },
   "outputs": [],
   "source": [
    "#Cleaning\n",
    "train = train[['text', 'label']].copy()\n",
    "sample['id'] = test['id']\n",
    "test = test.drop(columns=['id', 'prompt_id'])\n",
    "\n",
    "dev_x = train.drop(columns='label')\n",
    "dev_y = train['label']"
   ]
  },
  {
   "cell_type": "code",
   "execution_count": 4,
   "id": "0e5d8dcb",
   "metadata": {
    "execution": {
     "iopub.execute_input": "2023-11-27T20:10:17.799341Z",
     "iopub.status.busy": "2023-11-27T20:10:17.798856Z",
     "iopub.status.idle": "2023-11-27T20:11:14.810158Z",
     "shell.execute_reply": "2023-11-27T20:11:14.808810Z"
    },
    "papermill": {
     "duration": 57.021374,
     "end_time": "2023-11-27T20:11:14.813360",
     "exception": false,
     "start_time": "2023-11-27T20:10:17.791986",
     "status": "completed"
    },
    "tags": []
   },
   "outputs": [],
   "source": [
    "#Vectorizing\n",
    "vector = TfidfVectorizer(stop_words='english')\n",
    "vector.fit(dev_x['text'])\n",
    "dev_x = pd.DataFrame(vector.transform(dev_x['text']).toarray())\n",
    "test = pd.DataFrame(vector.transform(test['text']).toarray())"
   ]
  },
  {
   "cell_type": "markdown",
   "id": "feffcf2c",
   "metadata": {
    "papermill": {
     "duration": 0.004579,
     "end_time": "2023-11-27T20:11:14.823002",
     "exception": false,
     "start_time": "2023-11-27T20:11:14.818423",
     "status": "completed"
    },
    "tags": []
   },
   "source": [
    "# Modeling"
   ]
  },
  {
   "cell_type": "code",
   "execution_count": 5,
   "id": "4fcb0762",
   "metadata": {
    "execution": {
     "iopub.execute_input": "2023-11-27T20:11:14.834979Z",
     "iopub.status.busy": "2023-11-27T20:11:14.834506Z",
     "iopub.status.idle": "2023-11-27T20:11:14.840716Z",
     "shell.execute_reply": "2023-11-27T20:11:14.839265Z"
    },
    "papermill": {
     "duration": 0.015644,
     "end_time": "2023-11-27T20:11:14.843420",
     "exception": false,
     "start_time": "2023-11-27T20:11:14.827776",
     "status": "completed"
    },
    "tags": []
   },
   "outputs": [],
   "source": [
    "#XGB\n",
    "classifier = XGBClassifier(objective= 'binary:logistic', n_estimators=100, n_jobs=-1)"
   ]
  },
  {
   "cell_type": "code",
   "execution_count": 6,
   "id": "6d64cdff",
   "metadata": {
    "execution": {
     "iopub.execute_input": "2023-11-27T20:11:14.855415Z",
     "iopub.status.busy": "2023-11-27T20:11:14.854922Z",
     "iopub.status.idle": "2023-11-27T20:41:43.884319Z",
     "shell.execute_reply": "2023-11-27T20:41:43.882522Z"
    },
    "papermill": {
     "duration": 1829.045033,
     "end_time": "2023-11-27T20:41:43.893271",
     "exception": false,
     "start_time": "2023-11-27T20:11:14.848238",
     "status": "completed"
    },
    "tags": []
   },
   "outputs": [
    {
     "name": "stdout",
     "output_type": "stream",
     "text": [
      "CPU times: user 1h 47min 49s, sys: 25.2 s, total: 1h 48min 14s\n",
      "Wall time: 30min 29s\n"
     ]
    },
    {
     "data": {
      "text/html": [
       "<style>#sk-container-id-1 {color: black;background-color: white;}#sk-container-id-1 pre{padding: 0;}#sk-container-id-1 div.sk-toggleable {background-color: white;}#sk-container-id-1 label.sk-toggleable__label {cursor: pointer;display: block;width: 100%;margin-bottom: 0;padding: 0.3em;box-sizing: border-box;text-align: center;}#sk-container-id-1 label.sk-toggleable__label-arrow:before {content: \"▸\";float: left;margin-right: 0.25em;color: #696969;}#sk-container-id-1 label.sk-toggleable__label-arrow:hover:before {color: black;}#sk-container-id-1 div.sk-estimator:hover label.sk-toggleable__label-arrow:before {color: black;}#sk-container-id-1 div.sk-toggleable__content {max-height: 0;max-width: 0;overflow: hidden;text-align: left;background-color: #f0f8ff;}#sk-container-id-1 div.sk-toggleable__content pre {margin: 0.2em;color: black;border-radius: 0.25em;background-color: #f0f8ff;}#sk-container-id-1 input.sk-toggleable__control:checked~div.sk-toggleable__content {max-height: 200px;max-width: 100%;overflow: auto;}#sk-container-id-1 input.sk-toggleable__control:checked~label.sk-toggleable__label-arrow:before {content: \"▾\";}#sk-container-id-1 div.sk-estimator input.sk-toggleable__control:checked~label.sk-toggleable__label {background-color: #d4ebff;}#sk-container-id-1 div.sk-label input.sk-toggleable__control:checked~label.sk-toggleable__label {background-color: #d4ebff;}#sk-container-id-1 input.sk-hidden--visually {border: 0;clip: rect(1px 1px 1px 1px);clip: rect(1px, 1px, 1px, 1px);height: 1px;margin: -1px;overflow: hidden;padding: 0;position: absolute;width: 1px;}#sk-container-id-1 div.sk-estimator {font-family: monospace;background-color: #f0f8ff;border: 1px dotted black;border-radius: 0.25em;box-sizing: border-box;margin-bottom: 0.5em;}#sk-container-id-1 div.sk-estimator:hover {background-color: #d4ebff;}#sk-container-id-1 div.sk-parallel-item::after {content: \"\";width: 100%;border-bottom: 1px solid gray;flex-grow: 1;}#sk-container-id-1 div.sk-label:hover label.sk-toggleable__label {background-color: #d4ebff;}#sk-container-id-1 div.sk-serial::before {content: \"\";position: absolute;border-left: 1px solid gray;box-sizing: border-box;top: 0;bottom: 0;left: 50%;z-index: 0;}#sk-container-id-1 div.sk-serial {display: flex;flex-direction: column;align-items: center;background-color: white;padding-right: 0.2em;padding-left: 0.2em;position: relative;}#sk-container-id-1 div.sk-item {position: relative;z-index: 1;}#sk-container-id-1 div.sk-parallel {display: flex;align-items: stretch;justify-content: center;background-color: white;position: relative;}#sk-container-id-1 div.sk-item::before, #sk-container-id-1 div.sk-parallel-item::before {content: \"\";position: absolute;border-left: 1px solid gray;box-sizing: border-box;top: 0;bottom: 0;left: 50%;z-index: -1;}#sk-container-id-1 div.sk-parallel-item {display: flex;flex-direction: column;z-index: 1;position: relative;background-color: white;}#sk-container-id-1 div.sk-parallel-item:first-child::after {align-self: flex-end;width: 50%;}#sk-container-id-1 div.sk-parallel-item:last-child::after {align-self: flex-start;width: 50%;}#sk-container-id-1 div.sk-parallel-item:only-child::after {width: 0;}#sk-container-id-1 div.sk-dashed-wrapped {border: 1px dashed gray;margin: 0 0.4em 0.5em 0.4em;box-sizing: border-box;padding-bottom: 0.4em;background-color: white;}#sk-container-id-1 div.sk-label label {font-family: monospace;font-weight: bold;display: inline-block;line-height: 1.2em;}#sk-container-id-1 div.sk-label-container {text-align: center;}#sk-container-id-1 div.sk-container {/* jupyter's `normalize.less` sets `[hidden] { display: none; }` but bootstrap.min.css set `[hidden] { display: none !important; }` so we also need the `!important` here to be able to override the default hidden behavior on the sphinx rendered scikit-learn.org. See: https://github.com/scikit-learn/scikit-learn/issues/21755 */display: inline-block !important;position: relative;}#sk-container-id-1 div.sk-text-repr-fallback {display: none;}</style><div id=\"sk-container-id-1\" class=\"sk-top-container\"><div class=\"sk-text-repr-fallback\"><pre>XGBClassifier(base_score=None, booster=None, callbacks=None,\n",
       "              colsample_bylevel=None, colsample_bynode=None,\n",
       "              colsample_bytree=None, device=None, early_stopping_rounds=None,\n",
       "              enable_categorical=False, eval_metric=None, feature_types=None,\n",
       "              gamma=None, grow_policy=None, importance_type=None,\n",
       "              interaction_constraints=None, learning_rate=None, max_bin=None,\n",
       "              max_cat_threshold=None, max_cat_to_onehot=None,\n",
       "              max_delta_step=None, max_depth=None, max_leaves=None,\n",
       "              min_child_weight=None, missing=nan, monotone_constraints=None,\n",
       "              multi_strategy=None, n_estimators=100, n_jobs=-1,\n",
       "              num_parallel_tree=None, random_state=None, ...)</pre><b>In a Jupyter environment, please rerun this cell to show the HTML representation or trust the notebook. <br />On GitHub, the HTML representation is unable to render, please try loading this page with nbviewer.org.</b></div><div class=\"sk-container\" hidden><div class=\"sk-item\"><div class=\"sk-estimator sk-toggleable\"><input class=\"sk-toggleable__control sk-hidden--visually\" id=\"sk-estimator-id-1\" type=\"checkbox\" checked><label for=\"sk-estimator-id-1\" class=\"sk-toggleable__label sk-toggleable__label-arrow\">XGBClassifier</label><div class=\"sk-toggleable__content\"><pre>XGBClassifier(base_score=None, booster=None, callbacks=None,\n",
       "              colsample_bylevel=None, colsample_bynode=None,\n",
       "              colsample_bytree=None, device=None, early_stopping_rounds=None,\n",
       "              enable_categorical=False, eval_metric=None, feature_types=None,\n",
       "              gamma=None, grow_policy=None, importance_type=None,\n",
       "              interaction_constraints=None, learning_rate=None, max_bin=None,\n",
       "              max_cat_threshold=None, max_cat_to_onehot=None,\n",
       "              max_delta_step=None, max_depth=None, max_leaves=None,\n",
       "              min_child_weight=None, missing=nan, monotone_constraints=None,\n",
       "              multi_strategy=None, n_estimators=100, n_jobs=-1,\n",
       "              num_parallel_tree=None, random_state=None, ...)</pre></div></div></div></div></div>"
      ],
      "text/plain": [
       "XGBClassifier(base_score=None, booster=None, callbacks=None,\n",
       "              colsample_bylevel=None, colsample_bynode=None,\n",
       "              colsample_bytree=None, device=None, early_stopping_rounds=None,\n",
       "              enable_categorical=False, eval_metric=None, feature_types=None,\n",
       "              gamma=None, grow_policy=None, importance_type=None,\n",
       "              interaction_constraints=None, learning_rate=None, max_bin=None,\n",
       "              max_cat_threshold=None, max_cat_to_onehot=None,\n",
       "              max_delta_step=None, max_depth=None, max_leaves=None,\n",
       "              min_child_weight=None, missing=nan, monotone_constraints=None,\n",
       "              multi_strategy=None, n_estimators=100, n_jobs=-1,\n",
       "              num_parallel_tree=None, random_state=None, ...)"
      ]
     },
     "execution_count": 6,
     "metadata": {},
     "output_type": "execute_result"
    }
   ],
   "source": [
    "%%time\n",
    "\n",
    "classifier.fit(dev_x, dev_y)"
   ]
  },
  {
   "cell_type": "markdown",
   "id": "381d7afc",
   "metadata": {
    "papermill": {
     "duration": 0.005062,
     "end_time": "2023-11-27T20:41:43.904647",
     "exception": false,
     "start_time": "2023-11-27T20:41:43.899585",
     "status": "completed"
    },
    "tags": []
   },
   "source": [
    "# Predictions"
   ]
  },
  {
   "cell_type": "code",
   "execution_count": 7,
   "id": "d349d8e0",
   "metadata": {
    "execution": {
     "iopub.execute_input": "2023-11-27T20:41:43.919327Z",
     "iopub.status.busy": "2023-11-27T20:41:43.918742Z",
     "iopub.status.idle": "2023-11-27T20:41:56.584790Z",
     "shell.execute_reply": "2023-11-27T20:41:56.582292Z"
    },
    "papermill": {
     "duration": 12.680916,
     "end_time": "2023-11-27T20:41:56.591601",
     "exception": false,
     "start_time": "2023-11-27T20:41:43.910685",
     "status": "completed"
    },
    "tags": []
   },
   "outputs": [],
   "source": [
    "sample['generated'] = classifier.predict_proba(test)[:, 1]"
   ]
  },
  {
   "cell_type": "code",
   "execution_count": 8,
   "id": "83ac883c",
   "metadata": {
    "execution": {
     "iopub.execute_input": "2023-11-27T20:41:56.610822Z",
     "iopub.status.busy": "2023-11-27T20:41:56.609075Z",
     "iopub.status.idle": "2023-11-27T20:41:56.626068Z",
     "shell.execute_reply": "2023-11-27T20:41:56.624698Z"
    },
    "papermill": {
     "duration": 0.029024,
     "end_time": "2023-11-27T20:41:56.629720",
     "exception": false,
     "start_time": "2023-11-27T20:41:56.600696",
     "status": "completed"
    },
    "tags": []
   },
   "outputs": [],
   "source": [
    "sample.to_csv('submission.csv', index=False)"
   ]
  }
 ],
 "metadata": {
  "kaggle": {
   "accelerator": "none",
   "dataSources": [
    {
     "databundleVersionId": 6888007,
     "sourceId": 61542,
     "sourceType": "competition"
    },
    {
     "datasetId": 4005256,
     "sourceId": 6977472,
     "sourceType": "datasetVersion"
    }
   ],
   "dockerImageVersionId": 30587,
   "isGpuEnabled": false,
   "isInternetEnabled": false,
   "language": "python",
   "sourceType": "notebook"
  },
  "kernelspec": {
   "display_name": "Python 3",
   "language": "python",
   "name": "python3"
  },
  "language_info": {
   "codemirror_mode": {
    "name": "ipython",
    "version": 3
   },
   "file_extension": ".py",
   "mimetype": "text/x-python",
   "name": "python",
   "nbconvert_exporter": "python",
   "pygments_lexer": "ipython3",
   "version": "3.10.12"
  },
  "papermill": {
   "default_parameters": {},
   "duration": 1911.89735,
   "end_time": "2023-11-27T20:42:00.471177",
   "environment_variables": {},
   "exception": null,
   "input_path": "__notebook__.ipynb",
   "output_path": "__notebook__.ipynb",
   "parameters": {},
   "start_time": "2023-11-27T20:10:08.573827",
   "version": "2.4.0"
  }
 },
 "nbformat": 4,
 "nbformat_minor": 5
}
